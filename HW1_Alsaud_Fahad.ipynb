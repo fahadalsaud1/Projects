{
  "nbformat": 4,
  "nbformat_minor": 0,
  "metadata": {
    "colab": {
      "name": "HW1_Alsaud_Fahad.ipynb",
      "provenance": [],
      "collapsed_sections": [],
      "include_colab_link": true
    },
    "kernelspec": {
      "name": "python3",
      "display_name": "Python 3"
    }
  },
  "cells": [
    {
      "cell_type": "markdown",
      "metadata": {
        "id": "view-in-github",
        "colab_type": "text"
      },
      "source": [
        "<a href=\"https://colab.research.google.com/github/fahadalsaud1/Projects/blob/main/HW1_Alsaud_Fahad.ipynb\" target=\"_parent\"><img src=\"https://colab.research.google.com/assets/colab-badge.svg\" alt=\"Open In Colab\"/></a>"
      ]
    },
    {
      "cell_type": "markdown",
      "metadata": {
        "id": "hm8RAKinXsIP"
      },
      "source": [
        "## **Homework 1**\n",
        "\n",
        "### Create a copy of the notebook to start answering the questions. Name your notebook in the format HW1_lastname_firstname.ipynb to facilitate the grading process. \n",
        "\n",
        "### Answer all the questions, test your code to ensure there are no errors and the results are as expected. Once you have answered all the questions, save the final copy, then go to File-> click on Download.ipynb. Once the local copy has been downloaded, submit your file on Blackboard under the corresponding assignment section. Also provide us a link to your notebook during submission. \n",
        "\n",
        "### **The due date of this homework is 02/05/2021 (Friday).**\n",
        "\n",
        "### Please ensure you follow all the steps mentioned in the homework.\n",
        "\n",
        "### All the questions have a sample input and output to help you understand the question. Please note that your programs will be tested for other sets of inputs and outputs along with the sample provided. So test your code for other inputs.\n",
        "\n",
        "### You can submit your solutions any number of times until the deadline.\n"
      ]
    },
    {
      "cell_type": "markdown",
      "metadata": {
        "id": "uacFrEaZfcfq"
      },
      "source": [
        "##### Q1. Write a program that prompts the user to enter a password then prints the length of the password.\n",
        "\n",
        "```\n",
        "Enter your password: hello\n",
        "Your password is 5 long.\n",
        "```\n",
        "\n",
        "\n"
      ]
    },
    {
      "cell_type": "code",
      "metadata": {
        "id": "avPyES14ftCt",
        "colab": {
          "base_uri": "https://localhost:8080/"
        },
        "outputId": "99a93576-5028-4c39-a8ac-aaa465e037f2"
      },
      "source": [
        "# Type solution here\n",
        "password = input(\"Enter your password: \")\n",
        "print(\"Your password is\", len(password), \"long\")\n",
        "\n",
        "    "
      ],
      "execution_count": null,
      "outputs": [
        {
          "output_type": "stream",
          "text": [
            "Enter a password: today\n",
            "Try again: todayilove\n",
            "Yay\n"
          ],
          "name": "stdout"
        }
      ]
    },
    {
      "cell_type": "markdown",
      "metadata": {
        "id": "ekh-kABuItli"
      },
      "source": [
        ""
      ]
    },
    {
      "cell_type": "markdown",
      "metadata": {
        "id": "K1yko-xUItU3"
      },
      "source": [
        ""
      ]
    },
    {
      "cell_type": "markdown",
      "metadata": {
        "id": "behD0j_Of2TW"
      },
      "source": [
        "##### Q2. Write a program that prompts the user to enter their full name then prints the number of characters in their name (do not count spaces).\n",
        "\n",
        "```\n",
        "What is your name? Amulya Katti\n",
        "Amulya Katti your name has 11 characters.\n",
        "```"
      ]
    },
    {
      "cell_type": "code",
      "metadata": {
        "id": "XSdIRjwlhSlu",
        "colab": {
          "base_uri": "https://localhost:8080/"
        },
        "outputId": "0850c882-d2a3-4c0a-804e-f3b442ec519e"
      },
      "source": [
        "# Type solution here\n",
        "Name = input(\"Enter your full name: \")\n",
        "New_Name = len(Name) - Name.count(\" \")\n",
        "print(\"Your password is\", New_Name, \"long\")"
      ],
      "execution_count": null,
      "outputs": [
        {
          "output_type": "stream",
          "text": [
            "Enter your full name: fahad alsaud\n",
            "Your password is 11 long\n"
          ],
          "name": "stdout"
        }
      ]
    },
    {
      "cell_type": "markdown",
      "metadata": {
        "id": "5KHOWF6FhVHV"
      },
      "source": [
        "##### Q3. Write a program that prompts the user to enter a month (as a number), then prints the name of the month and the number of days in that month. Ensure that the user inputs a valid month and handle any error cases.\n",
        "\n",
        "```\n",
        "Enter the month number: 9\n",
        "September has 30 days\n",
        "```"
      ]
    },
    {
      "cell_type": "code",
      "metadata": {
        "id": "KhS-SAEThyTG",
        "colab": {
          "base_uri": "https://localhost:8080/"
        },
        "outputId": "f2c0b9d8-16dc-4a28-956d-7e2654d2ebb3"
      },
      "source": [
        "# Type solution here\n",
        "months = {\"January\": 31, \"February\": 28, \"March\": 31, \"April\": 30, \"May\": 31, \"June\" : 30, \"July\": 31, \n",
        "          \"August\": 31, \"September\": 30, \"October\": 31, \"Nobember\": 30, \"December\": 31}\n",
        "user_1 = input(\"Enter the month number: \")\n",
        "check = \"True\"\n",
        "while check == \"True\":\n",
        "  if int(user_1) >= 1 and int(user_1) <= 12:\n",
        "    check = \"False\"\n",
        "  else:\n",
        "    user_1 = input(\"Please try again\")\n",
        "user = int(user_1)\n",
        "if user == 1:\n",
        "  print(\"January has 31 days\")\n",
        "elif user == 2:\n",
        "  print(\"February has 28 days\")\n",
        "elif user == 3:\n",
        "  print(\"March has 31 days\")\n",
        "elif user == 4:\n",
        "  print(\"April has 30 days\")\n",
        "elif user == 5:\n",
        "  print(\"May has 31 days\")\n",
        "elif user == 6:\n",
        "  print(\"June has 30 days\")\n",
        "elif user == 7:\n",
        "  print(\"July has 31 days\")\n",
        "elif user == 8:\n",
        "  print(\"August has 31 days\")\n",
        "elif user == 9:\n",
        "  print(\"September has 30 days\")\n",
        "elif user == 10:\n",
        "  print(\"October has 31 days\")\n",
        "elif user == 11:\n",
        "  print(\"November has 30 days\")\n",
        "elif user == 12:\n",
        "  print(\"December has 31 days\")\n",
        "\n",
        "    \n",
        "  \n",
        "\n"
      ],
      "execution_count": null,
      "outputs": [
        {
          "output_type": "stream",
          "text": [
            "Enter the month number: 13\n",
            "Please try again4\n",
            "April has 30 days\n"
          ],
          "name": "stdout"
        }
      ]
    },
    {
      "cell_type": "markdown",
      "metadata": {
        "id": "O7lnAdGlh6Xa"
      },
      "source": [
        "##### Q4. Write a program that prompts the user to enter a loan amount, annual interest rate, and number of years  for a car loan. Then calculate and print the monthly payment amount.\n",
        "\n",
        "Note:\n",
        "```\n",
        "PMT= [PV*i*((1+i)^n)]/[((1+i)^n)-1]\n",
        "```\n",
        "PMT is the monthly payment\n",
        "\n",
        "PV is the loan amount\n",
        "\n",
        "i is the interest rate per month in decimal form (interest rate percentage divided by 12)\n",
        "\n",
        "n is the number of months (term of the loan in months)\n",
        "\n",
        "```\n",
        "Loan Amount: 30000.00\n",
        "Annual Interest Rate: 4.00\n",
        "Years: 5\n",
        "Your monthly payment is: $552.50\n",
        "```"
      ]
    },
    {
      "cell_type": "code",
      "metadata": {
        "id": "p4B5JH5GiTs9",
        "colab": {
          "base_uri": "https://localhost:8080/"
        },
        "outputId": "ca47d2bf-49d9-4495-c874-25186a26e5c4"
      },
      "source": [
        "# Type solution here\n",
        "pv = int(input(\"Enter your loan amount: \"))\n",
        "iy = input(\"Enter your interest rate: \")\n",
        "i = int(iy)/1200\n",
        "\n",
        "years = input(\"Enter how many years: \")\n",
        "n = int(years) * 12\n",
        "\n",
        "PMT = ((pv * i * ((1+i)**n)))\n",
        "PMT_1= (((1+i)**n)-1)\n",
        "\n",
        "print(PMT/PMT_1)\n"
      ],
      "execution_count": null,
      "outputs": [
        {
          "output_type": "stream",
          "text": [
            "Enter your loan amount: 5000\n",
            "Enter your interest rate: 5\n",
            "Enter how many years: 5\n",
            "94.35616822005494\n"
          ],
          "name": "stdout"
        }
      ]
    },
    {
      "cell_type": "markdown",
      "metadata": {
        "id": "SjiolJKgiWV-"
      },
      "source": [
        "##### Q5. Write a program to that prompts the user to enter a string. Then check whether or not the string is a palindrome.\n",
        "\n",
        "```\n",
        "Enter a string: Madam\n",
        "Madam, is a palindrome!\n",
        "```"
      ]
    },
    {
      "cell_type": "code",
      "metadata": {
        "id": "F5_M934Ri0es",
        "colab": {
          "base_uri": "https://localhost:8080/"
        },
        "outputId": "9dbd896b-5a1f-4866-d7a6-15bc66b7259e"
      },
      "source": [
        "# Type solution here\n",
        "user_string = input(\"Enter a word: \")\n",
        "user_str = user_string.lower()\n",
        "rev = reversed(user_str)\n",
        "if list(user_str) == list(rev):\n",
        "  print(\"The word is a palindrome\")\n",
        "else:\n",
        "  print(\"Not a palindrome\")"
      ],
      "execution_count": null,
      "outputs": [
        {
          "output_type": "stream",
          "text": [
            "Enter a word: poop\n",
            "The word is a palindrome\n"
          ],
          "name": "stdout"
        }
      ]
    },
    {
      "cell_type": "markdown",
      "metadata": {
        "id": "BLBD6n9vkJEu"
      },
      "source": [
        "##### Q6. Write a program to compute and print all possible combinations of change for \\$1. Denominations to be considered – quarter, dime, nickel, penny.\n",
        "\n",
        "Hint: Use nested loops (loops within loops for the various denominations of coins)\n",
        "\n",
        "```\n",
        "Change for $1:\n",
        "0 quarters, 0 dimes, 0 nickels, 100 pennies\n",
        "…\n",
        "4 quarters, 0 dimes, 0 nickels, 0 pennies\n",
        "```"
      ]
    },
    {
      "cell_type": "code",
      "metadata": {
        "id": "kAQsTjwDkZZ5",
        "colab": {
          "base_uri": "https://localhost:8080/",
          "height": 232
        },
        "outputId": "4d8de2f1-7cb1-4e83-b029-ca9a3ef13049"
      },
      "source": [
        "# I couldn't figure out how to lower the coins for each one\n",
        "pennies = 1\n",
        "nickels = 5\n",
        "dimes = 10\n",
        "quarters = 25\n",
        "count = 0\n",
        "pennies_1 = 0\n",
        "nickels_1 = 0\n",
        "dimes_1 = 0\n",
        "quarters_1 = 0\n",
        "dollar = 100\n",
        "for range in (0, 100):\n",
        "  amount = pennies_1 * pennies\n",
        "  count +=1 \n",
        "  if amount == 100:\n",
        "    print(pennies_1, \" pennies \", nickels_1 , \" nickles \", dimes_1, \" dimes \", quarters, \" quarters\")\n",
        "  pennies_1 += 1\n",
        "  for range in (0, 20):\n",
        "    nickles_1 = 0\n",
        "    amount = nickles_1 * nickles \n",
        "    count +=1 \n",
        "    if amount == 100:\n",
        "      print(pennies_1, \" pennies \", nickels_1, \" nickles \", dimes_1, \" dimes \", quarters, \" quarters\")\n",
        "    nickles_1 += 1\n",
        "    for range in (0, 10):\n",
        "      dimes_1 = 0\n",
        "      amount = dimes * dimes \n",
        "      count +=1 \n",
        "      if amount == 100:\n",
        "        print(pennies_1, \" pennies \", nickels_1, \" nickles \", dimes_1, \" dimes \", quarters, \" quarters\")\n",
        "      dimes_1 += 1\n",
        "      for range in (0, 4):\n",
        "        quarters_1 = 0\n",
        "        amount = quarters_1 * quarters \n",
        "        count +=1 \n",
        "        if amount == 100:\n",
        "          print(pennies_1, \" pennies \", nickels_1, \" nickles \", dimes_1, \" dimes \", quarters, \" quarters\")\n",
        "        quarters_1 += 1\n",
        "\n",
        "\n"
      ],
      "execution_count": null,
      "outputs": [
        {
          "output_type": "error",
          "ename": "NameError",
          "evalue": "ignored",
          "traceback": [
            "\u001b[0;31m---------------------------------------------------------------------------\u001b[0m",
            "\u001b[0;31mNameError\u001b[0m                                 Traceback (most recent call last)",
            "\u001b[0;32m<ipython-input-131-c5a2749d1f60>\u001b[0m in \u001b[0;36m<module>\u001b[0;34m()\u001b[0m\n\u001b[1;32m     18\u001b[0m   \u001b[0;32mfor\u001b[0m \u001b[0mrange\u001b[0m \u001b[0;32min\u001b[0m \u001b[0;34m(\u001b[0m\u001b[0;36m0\u001b[0m\u001b[0;34m,\u001b[0m \u001b[0;36m20\u001b[0m\u001b[0;34m)\u001b[0m\u001b[0;34m:\u001b[0m\u001b[0;34m\u001b[0m\u001b[0;34m\u001b[0m\u001b[0m\n\u001b[1;32m     19\u001b[0m     \u001b[0mnickles_1\u001b[0m \u001b[0;34m=\u001b[0m \u001b[0;36m0\u001b[0m\u001b[0;34m\u001b[0m\u001b[0;34m\u001b[0m\u001b[0m\n\u001b[0;32m---> 20\u001b[0;31m     \u001b[0mamount\u001b[0m \u001b[0;34m=\u001b[0m \u001b[0mnickles_1\u001b[0m \u001b[0;34m*\u001b[0m \u001b[0mnickles\u001b[0m\u001b[0;34m\u001b[0m\u001b[0;34m\u001b[0m\u001b[0m\n\u001b[0m\u001b[1;32m     21\u001b[0m     \u001b[0mcount\u001b[0m \u001b[0;34m+=\u001b[0m\u001b[0;36m1\u001b[0m\u001b[0;34m\u001b[0m\u001b[0;34m\u001b[0m\u001b[0m\n\u001b[1;32m     22\u001b[0m     \u001b[0;32mif\u001b[0m \u001b[0mamount\u001b[0m \u001b[0;34m==\u001b[0m \u001b[0;36m100\u001b[0m\u001b[0;34m:\u001b[0m\u001b[0;34m\u001b[0m\u001b[0;34m\u001b[0m\u001b[0m\n",
            "\u001b[0;31mNameError\u001b[0m: name 'nickles' is not defined"
          ]
        }
      ]
    },
    {
      "cell_type": "markdown",
      "metadata": {
        "id": "rUPDjYiIkbgs"
      },
      "source": [
        "##### Q7. Ask the user to enter two positive integers between 1 and 100. Read those integers. Then output a multiplication table of the first number times the second number. \n",
        "\n",
        "Note: You have to ensure the entered numbers are between 1 and 100 only.\n",
        "\n",
        "```\n",
        "Please enter an integer: 5\n",
        "Please enter another integer: 20\n",
        "5 x 1 = 5\n",
        "5 x 2 = 10\n",
        "5 x 3 = 15\n",
        "…\n",
        "5 x 20 = 100\n",
        "```"
      ]
    },
    {
      "cell_type": "code",
      "metadata": {
        "id": "Qg0Orv1klHzA",
        "colab": {
          "base_uri": "https://localhost:8080/"
        },
        "outputId": "ae91eda8-a720-42ea-d80d-2a75a91036c4"
      },
      "source": [
        "int_1 = int(input(\"Please enter an integer: \"))\n",
        "while int_1 <= 0 or int_1 >= 101:\n",
        "  int_1 = int(input(\"Please enter an integer: \"))\n",
        "\n",
        "int_2 = int(input(\"Please enter another integer: \"))\n",
        "while int_2 <= 0 or int_2 >= 101:\n",
        "  int_2 = int(input(\"Please enter an integer: \"))\n",
        "\n",
        "number = 1 \n",
        "while number <= int_2:\n",
        "  print(int_1, \" x \", number, \"=\", int_1 * number)\n",
        "  number += 1"
      ],
      "execution_count": null,
      "outputs": [
        {
          "output_type": "stream",
          "text": [
            "Please enter an integer: 5\n",
            "Please enter another integer: 101\n",
            "Please enter an integer: 20\n",
            "5  x  1 = 5\n",
            "5  x  2 = 10\n",
            "5  x  3 = 15\n",
            "5  x  4 = 20\n",
            "5  x  5 = 25\n",
            "5  x  6 = 30\n",
            "5  x  7 = 35\n",
            "5  x  8 = 40\n",
            "5  x  9 = 45\n",
            "5  x  10 = 50\n",
            "5  x  11 = 55\n",
            "5  x  12 = 60\n",
            "5  x  13 = 65\n",
            "5  x  14 = 70\n",
            "5  x  15 = 75\n",
            "5  x  16 = 80\n",
            "5  x  17 = 85\n",
            "5  x  18 = 90\n",
            "5  x  19 = 95\n",
            "5  x  20 = 100\n"
          ],
          "name": "stdout"
        }
      ]
    },
    {
      "cell_type": "markdown",
      "metadata": {
        "id": "SbnbPUPTlLD9"
      },
      "source": [
        "##### Q8. Write a program to ask the user to enter a password. Then check to see if it is a valid password based on these requirements -\n",
        "\n",
        "Must be at least 8 characters long\n",
        "\n",
        "Must contain both uppercase and lowercase letters\n",
        "\n",
        "Must contain at least one number between 0-9\n",
        "\n",
        "Must contain a special character -!,@,#,$\n",
        "\n",
        "If the password is not valid, ask the user to re-enter. This should continue until the user enters a valid password. After a valid password is entered, print Access Granted!\n",
        "\n",
        "```\n",
        "Please enter a password. Follow these requirements - \n",
        "a. Must be at least 8 characters long\n",
        "b. Must contain both uppercase and lowercase letters\n",
        "c. Must contain at least one number between 0-9\n",
        "d. Must contain a special character -!,@,#,$\n",
        "Password: HelloWorld1\n",
        "Invalid password. Try again!\n",
        "Password: Hello@World1\n",
        "Access Granted!\n",
        "```\n"
      ]
    },
    {
      "cell_type": "code",
      "metadata": {
        "id": "OXmZ177Rl-RV",
        "colab": {
          "base_uri": "https://localhost:8080/"
        },
        "outputId": "bb8318fc-7b83-411e-b630-e3e9369de53e"
      },
      "source": [
        "# Type solution here\n",
        "s_c = [\"-\", \"!\", \"@\", \"#\", \"$\"]\n",
        "password = input(\"Enter a password: \")\n",
        "# if (len(password) < 8) :\n",
        "i = 3\n",
        "while i == 3:\n",
        "  if len(password) < 8:\n",
        "    password = input(\"Try again: \")\n",
        "    i = 3\n",
        "  else:\n",
        "    if password.isupper == True:\n",
        "      password = input(\"Try again: \")\n",
        "    else:\n",
        "      if password.islower == True:\n",
        "        password = input(\"Try again: \")\n",
        "      else:\n",
        "        b = 4\n",
        "        while b == 4:\n",
        "          for characters in password:\n",
        "            if characters.isdigit():\n",
        "              b = 5\n",
        "              break\n",
        "          if b == 4:\n",
        "            password = input(\"Try again: \")\n",
        "          elif b == 5:\n",
        "            break         \n",
        "        c = 3\n",
        "        while c == 3:\n",
        "          for character in password:\n",
        "            if character in s_c:\n",
        "              print(\"Valid password\")\n",
        "              i = 4\n",
        "              c = 4\n",
        "              break\n",
        "          if c == 3:\n",
        "            password = input(\"Try again: \")\n",
        "        \n",
        "\n",
        "    \n",
        "\n"
      ],
      "execution_count": null,
      "outputs": [
        {
          "output_type": "stream",
          "text": [
            "Enter a password: todayilove@\n",
            "Try again: todayIlove3\n",
            "Try again: todayIlove3$\n",
            "Valid password\n"
          ],
          "name": "stdout"
        }
      ]
    },
    {
      "cell_type": "markdown",
      "metadata": {
        "id": "-0sdutTDnTKA"
      },
      "source": [
        "##### Q9. Given the score sheet of participants in a competition, you are required to find the runner-up score. You are given scores in a list. Find the score of the runner-up.\n",
        "\n",
        "```\n",
        "list1 - [2, 3, 6, 6, 5]\n",
        "runner_up - 5\n",
        "\n",
        "list2 - [1, 7, 5, 3, 10, 4, 5, 5, 6, 11]\n",
        "runner_up - 10\n",
        "```"
      ]
    },
    {
      "cell_type": "code",
      "metadata": {
        "id": "12YP9OaqpGRK",
        "colab": {
          "base_uri": "https://localhost:8080/"
        },
        "outputId": "51209397-fc55-476f-e865-6eb8f49b633f"
      },
      "source": [
        "# I took this question as if the list was already given to us.\n",
        "list1 = [2, 3, 6, 6, 5]\n",
        "new_list = []\n",
        "for num in list1: \n",
        "    if num not in new_list: \n",
        "        new_list.append(num)\n",
        "new_list.remove(max(new_list))\n",
        "print(\"runner_up = \", max(new_list))"
      ],
      "execution_count": null,
      "outputs": [
        {
          "output_type": "stream",
          "text": [
            "runner_up =  5\n"
          ],
          "name": "stdout"
        }
      ]
    }
  ]
}